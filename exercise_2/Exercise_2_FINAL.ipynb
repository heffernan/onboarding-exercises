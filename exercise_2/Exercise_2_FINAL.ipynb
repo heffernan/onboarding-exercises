{
 "cells": [
  {
   "cell_type": "code",
   "execution_count": 1,
   "metadata": {},
   "outputs": [],
   "source": [
    "#The goal of this notebook is to get some practices with the following:\n",
    "# schedule\n",
    "# api calls\n",
    "# mysql\n",
    "\n",
    "#Objective: Get Chuck Noris jokes and store them in table."
   ]
  },
  {
   "cell_type": "code",
   "execution_count": 2,
   "metadata": {},
   "outputs": [],
   "source": [
    "import schedule\n",
    "import time"
   ]
  },
  {
   "cell_type": "code",
   "execution_count": null,
   "metadata": {},
   "outputs": [],
   "source": [
    "#TO DO: Look at docs.  Why is this more useful than sleep?  How do I stop it?\n",
    "def job(interval):\n",
    "    print(\"I'm working...   \" + str(interval))\n",
    "\n",
    "schedule.every().minutes.do(job,1)\n",
    "schedule.every(2).minutes.do(job,2)\n",
    "schedule.every(3).minutes.do(job,3)\n",
    "\n",
    "while True:\n",
    "    schedule.run_pending()\n",
    "    time.sleep(1)"
   ]
  },
  {
   "cell_type": "code",
   "execution_count": 3,
   "metadata": {},
   "outputs": [],
   "source": [
    "# API calls"
   ]
  },
  {
   "cell_type": "code",
   "execution_count": 4,
   "metadata": {},
   "outputs": [],
   "source": [
    "import requests"
   ]
  },
  {
   "cell_type": "code",
   "execution_count": 5,
   "metadata": {},
   "outputs": [
    {
     "name": "stdout",
     "output_type": "stream",
     "text": [
      "200\n"
     ]
    }
   ],
   "source": [
    "response = requests.get(\"https://api.chucknorris.io/jokes/random\")\n",
    "print(response.status_code)"
   ]
  },
  {
   "cell_type": "code",
   "execution_count": 6,
   "metadata": {},
   "outputs": [
    {
     "name": "stdout",
     "output_type": "stream",
     "text": [
      "{'categories': [], 'created_at': '2020-01-05 13:42:20.262289', 'icon_url': 'https://assets.chucknorris.host/img/avatar/chuck-norris.png', 'id': '12ZrkEshT-aOTJwu-znWZA', 'updated_at': '2020-01-05 13:42:20.262289', 'url': 'https://api.chucknorris.io/jokes/12ZrkEshT-aOTJwu-znWZA', 'value': 'A Chuck Norris divided against himself can still stand.'}\n"
     ]
    }
   ],
   "source": [
    "print(response.json())"
   ]
  },
  {
   "cell_type": "code",
   "execution_count": 7,
   "metadata": {},
   "outputs": [],
   "source": [
    "#connect to mysql database and store practice joke"
   ]
  },
  {
   "cell_type": "code",
   "execution_count": 8,
   "metadata": {},
   "outputs": [],
   "source": [
    "import mysql.connector"
   ]
  },
  {
   "cell_type": "code",
   "execution_count": null,
   "metadata": {},
   "outputs": [],
   "source": [
    "cnx = mysql.connector.connect(user='user here', password='password here',\n",
    "                              host='127.0.0.1',\n",
    "                              database='database here')\n",
    "cursor = cnx.cursor()\n",
    "\n",
    "add_joke = (\"INSERT INTO jokes \"\n",
    "               \"(categories,joke) \"\n",
    "               \"VALUES (%(categories)s, %(joke)s)\")\n",
    "\n",
    "data_joke = {\n",
    "  'categories': '[\\\"category6\\\"]',\n",
    "  'joke': 'Chuck Noris Joke 6'\n",
    "}\n",
    "\n",
    "\n",
    "cursor.execute(add_joke,data_joke)\n",
    "emp_no = cursor.lastrowid\n",
    "print(emp_no)\n",
    "\n",
    "cnx.commit()\n",
    "\n",
    "cursor.close()\n",
    "cnx.close()"
   ]
  },
  {
   "cell_type": "code",
   "execution_count": null,
   "metadata": {},
   "outputs": [],
   "source": [
    "# combine mysql call and api call"
   ]
  },
  {
   "cell_type": "code",
   "execution_count": null,
   "metadata": {},
   "outputs": [],
   "source": [
    "cnx = mysql.connector.connect(user='user here', password='password here',\n",
    "                              host='127.0.0.1',\n",
    "                              database='database here')\n",
    "cursor = cnx.cursor()\n",
    "\n",
    "add_joke = (\"INSERT INTO jokes \"\n",
    "               \"(categories,joke) \"\n",
    "               \"VALUES (%(categories)s, %(joke)s)\")\n",
    "\n",
    "response = requests.get(\"https://api.chucknorris.io/jokes/random\")\n",
    "r = response.json()\n",
    "data_joke = {\n",
    "  'categories': str(r['categories']),\n",
    "  'joke': r['value']\n",
    "}\n",
    "\n",
    "\n",
    "cursor.execute(add_joke,data_joke)\n",
    "emp_no = cursor.lastrowid\n",
    "print(emp_no)\n",
    "\n",
    "cnx.commit()\n",
    "\n",
    "cursor.close()\n",
    "cnx.close()"
   ]
  }
 ],
 "metadata": {
  "kernelspec": {
   "display_name": "Python [conda env:root]",
   "language": "python",
   "name": "conda-root-py"
  },
  "language_info": {
   "codemirror_mode": {
    "name": "ipython",
    "version": 3
   },
   "file_extension": ".py",
   "mimetype": "text/x-python",
   "name": "python",
   "nbconvert_exporter": "python",
   "pygments_lexer": "ipython3",
   "version": "3.6.10"
  }
 },
 "nbformat": 4,
 "nbformat_minor": 4
}
